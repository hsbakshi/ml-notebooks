{
  "nbformat": 4,
  "nbformat_minor": 0,
  "metadata": {
    "colab": {
      "provenance": [],
      "gpuType": "T4",
      "authorship_tag": "ABX9TyPVXoqnPuflB0kcAkpOTcuL",
      "include_colab_link": true
    },
    "kernelspec": {
      "name": "python3",
      "display_name": "Python 3"
    },
    "language_info": {
      "name": "python"
    },
    "accelerator": "GPU"
  },
  "cells": [
    {
      "cell_type": "markdown",
      "metadata": {
        "id": "view-in-github",
        "colab_type": "text"
      },
      "source": [
        "<a href=\"https://colab.research.google.com/github/hsbakshi/ml-notebooks/blob/main/whisper_diarization.ipynb\" target=\"_parent\"><img src=\"https://colab.research.google.com/assets/colab-badge.svg\" alt=\"Open In Colab\"/></a>"
      ]
    },
    {
      "cell_type": "code",
      "source": [
        "%pip install -qq https://github.com/pyannote/pyannote-audio/archive/refs/heads/develop.zip\n",
        "from pyannote.audio import Audio\n"
      ],
      "metadata": {
        "id": "kFf4HhNmTkJU"
      },
      "execution_count": null,
      "outputs": []
    },
    {
      "cell_type": "code",
      "source": [
        "import locale\n",
        "locale.getpreferredencoding = lambda: \"UTF-8\"\n",
        "%pip install -qq cog\n",
        "%pip install -qq faster_whisper\n"
      ],
      "metadata": {
        "colab": {
          "base_uri": "https://localhost:8080/"
        },
        "id": "fzk7hd9ym5ji",
        "outputId": "1d81bcb8-2082-4515-9e30-61bde478857a"
      },
      "execution_count": null,
      "outputs": [
        {
          "output_type": "stream",
          "name": "stdout",
          "text": [
            "Looking in indexes: https://pypi.org/simple, https://us-python.pkg.dev/colab-wheels/public/simple/\n",
            "Collecting git+https://github.com/linto-ai/whisper-timestamped\n",
            "  Cloning https://github.com/linto-ai/whisper-timestamped to /tmp/pip-req-build-h61zj0af\n",
            "  Running command git clone --filter=blob:none --quiet https://github.com/linto-ai/whisper-timestamped /tmp/pip-req-build-h61zj0af\n",
            "  Resolved https://github.com/linto-ai/whisper-timestamped to commit 2c55305d6aa53f0c0fa1fe63fc85c33bfa60e963\n",
            "  Preparing metadata (setup.py) ... \u001b[?25l\u001b[?25hdone\n",
            "Requirement already satisfied: Cython in /usr/local/lib/python3.10/dist-packages (from whisper-timestamped==1.12.20) (0.29.34)\n",
            "Collecting dtw-python (from whisper-timestamped==1.12.20)\n",
            "  Downloading dtw_python-1.3.0-cp310-cp310-manylinux_2_17_x86_64.manylinux2014_x86_64.whl (645 kB)\n",
            "\u001b[2K     \u001b[90m━━━━━━━━━━━━━━━━━━━━━━━━━━━━━━━━━━━━━━\u001b[0m \u001b[32m645.5/645.5 kB\u001b[0m \u001b[31m37.7 MB/s\u001b[0m eta \u001b[36m0:00:00\u001b[0m\n",
            "\u001b[?25hCollecting openai-whisper (from whisper-timestamped==1.12.20)\n",
            "  Downloading openai-whisper-20230314.tar.gz (792 kB)\n",
            "\u001b[2K     \u001b[90m━━━━━━━━━━━━━━━━━━━━━━━━━━━━━━━━━━━━━━\u001b[0m \u001b[32m792.9/792.9 kB\u001b[0m \u001b[31m76.7 MB/s\u001b[0m eta \u001b[36m0:00:00\u001b[0m\n",
            "\u001b[?25h  Installing build dependencies ... \u001b[?25l\u001b[?25hdone\n",
            "  Getting requirements to build wheel ... \u001b[?25l\u001b[?25hdone\n",
            "  Preparing metadata (pyproject.toml) ... \u001b[?25l\u001b[?25hdone\n",
            "Requirement already satisfied: numpy>=1.19 in /usr/local/lib/python3.10/dist-packages (from dtw-python->whisper-timestamped==1.12.20) (1.22.4)\n",
            "Requirement already satisfied: scipy>=1.1 in /usr/local/lib/python3.10/dist-packages (from dtw-python->whisper-timestamped==1.12.20) (1.10.1)\n",
            "Requirement already satisfied: triton==2.0.0 in /usr/local/lib/python3.10/dist-packages (from openai-whisper->whisper-timestamped==1.12.20) (2.0.0)\n",
            "Requirement already satisfied: numba in /usr/local/lib/python3.10/dist-packages (from openai-whisper->whisper-timestamped==1.12.20) (0.56.4)\n",
            "Requirement already satisfied: torch in /usr/local/lib/python3.10/dist-packages (from openai-whisper->whisper-timestamped==1.12.20) (2.0.1+cu118)\n",
            "Requirement already satisfied: tqdm in /usr/local/lib/python3.10/dist-packages (from openai-whisper->whisper-timestamped==1.12.20) (4.65.0)\n",
            "Requirement already satisfied: more-itertools in /usr/local/lib/python3.10/dist-packages (from openai-whisper->whisper-timestamped==1.12.20) (9.1.0)\n",
            "Collecting tiktoken==0.3.1 (from openai-whisper->whisper-timestamped==1.12.20)\n",
            "  Downloading tiktoken-0.3.1-cp310-cp310-manylinux_2_17_x86_64.manylinux2014_x86_64.whl (1.7 MB)\n",
            "\u001b[2K     \u001b[90m━━━━━━━━━━━━━━━━━━━━━━━━━━━━━━━━━━━━━━━━\u001b[0m \u001b[32m1.7/1.7 MB\u001b[0m \u001b[31m59.0 MB/s\u001b[0m eta \u001b[36m0:00:00\u001b[0m\n",
            "\u001b[?25hCollecting ffmpeg-python==0.2.0 (from openai-whisper->whisper-timestamped==1.12.20)\n",
            "  Downloading ffmpeg_python-0.2.0-py3-none-any.whl (25 kB)\n",
            "Requirement already satisfied: future in /usr/local/lib/python3.10/dist-packages (from ffmpeg-python==0.2.0->openai-whisper->whisper-timestamped==1.12.20) (0.18.3)\n",
            "Requirement already satisfied: regex>=2022.1.18 in /usr/local/lib/python3.10/dist-packages (from tiktoken==0.3.1->openai-whisper->whisper-timestamped==1.12.20) (2022.10.31)\n",
            "Requirement already satisfied: requests>=2.26.0 in /usr/local/lib/python3.10/dist-packages (from tiktoken==0.3.1->openai-whisper->whisper-timestamped==1.12.20) (2.27.1)\n",
            "Requirement already satisfied: cmake in /usr/local/lib/python3.10/dist-packages (from triton==2.0.0->openai-whisper->whisper-timestamped==1.12.20) (3.25.2)\n",
            "Requirement already satisfied: filelock in /usr/local/lib/python3.10/dist-packages (from triton==2.0.0->openai-whisper->whisper-timestamped==1.12.20) (3.12.0)\n",
            "Requirement already satisfied: lit in /usr/local/lib/python3.10/dist-packages (from triton==2.0.0->openai-whisper->whisper-timestamped==1.12.20) (16.0.5)\n",
            "Requirement already satisfied: llvmlite<0.40,>=0.39.0dev0 in /usr/local/lib/python3.10/dist-packages (from numba->openai-whisper->whisper-timestamped==1.12.20) (0.39.1)\n",
            "Requirement already satisfied: setuptools in /usr/local/lib/python3.10/dist-packages (from numba->openai-whisper->whisper-timestamped==1.12.20) (67.7.2)\n",
            "Requirement already satisfied: typing-extensions in /usr/local/lib/python3.10/dist-packages (from torch->openai-whisper->whisper-timestamped==1.12.20) (4.5.0)\n",
            "Requirement already satisfied: sympy in /usr/local/lib/python3.10/dist-packages (from torch->openai-whisper->whisper-timestamped==1.12.20) (1.11.1)\n",
            "Requirement already satisfied: networkx in /usr/local/lib/python3.10/dist-packages (from torch->openai-whisper->whisper-timestamped==1.12.20) (3.1)\n",
            "Requirement already satisfied: jinja2 in /usr/local/lib/python3.10/dist-packages (from torch->openai-whisper->whisper-timestamped==1.12.20) (3.1.2)\n",
            "Requirement already satisfied: urllib3<1.27,>=1.21.1 in /usr/local/lib/python3.10/dist-packages (from requests>=2.26.0->tiktoken==0.3.1->openai-whisper->whisper-timestamped==1.12.20) (1.26.15)\n",
            "Requirement already satisfied: certifi>=2017.4.17 in /usr/local/lib/python3.10/dist-packages (from requests>=2.26.0->tiktoken==0.3.1->openai-whisper->whisper-timestamped==1.12.20) (2022.12.7)\n",
            "Requirement already satisfied: charset-normalizer~=2.0.0 in /usr/local/lib/python3.10/dist-packages (from requests>=2.26.0->tiktoken==0.3.1->openai-whisper->whisper-timestamped==1.12.20) (2.0.12)\n",
            "Requirement already satisfied: idna<4,>=2.5 in /usr/local/lib/python3.10/dist-packages (from requests>=2.26.0->tiktoken==0.3.1->openai-whisper->whisper-timestamped==1.12.20) (3.4)\n",
            "Requirement already satisfied: MarkupSafe>=2.0 in /usr/local/lib/python3.10/dist-packages (from jinja2->torch->openai-whisper->whisper-timestamped==1.12.20) (2.1.2)\n",
            "Requirement already satisfied: mpmath>=0.19 in /usr/local/lib/python3.10/dist-packages (from sympy->torch->openai-whisper->whisper-timestamped==1.12.20) (1.3.0)\n",
            "Building wheels for collected packages: whisper-timestamped, openai-whisper\n",
            "  Building wheel for whisper-timestamped (setup.py) ... \u001b[?25l\u001b[?25hdone\n",
            "  Created wheel for whisper-timestamped: filename=whisper_timestamped-1.12.20-py3-none-any.whl size=44514 sha256=270f6b28636c06c9cfa29e24dff7280753d89842cd145a140959f484f8abad17\n",
            "  Stored in directory: /tmp/pip-ephem-wheel-cache-ts4bdmr3/wheels/9d/fb/03/ae0b1c8b71edda71e33da77333c78117d879361bdd35de48e4\n",
            "  Building wheel for openai-whisper (pyproject.toml) ... \u001b[?25l\u001b[?25hdone\n",
            "  Created wheel for openai-whisper: filename=openai_whisper-20230314-py3-none-any.whl size=796910 sha256=7ad3dc9ab0c32a03316e3d8eee16cf11bb283451cb2515def7f2c512e5a6d7fd\n",
            "  Stored in directory: /root/.cache/pip/wheels/b2/13/5f/fe8245f6dc59df505879da4b2129932e342f02a80e6b87f27d\n",
            "Successfully built whisper-timestamped openai-whisper\n",
            "Installing collected packages: ffmpeg-python, tiktoken, dtw-python, openai-whisper, whisper-timestamped\n",
            "Successfully installed dtw-python-1.3.0 ffmpeg-python-0.2.0 openai-whisper-20230314 tiktoken-0.3.1 whisper-timestamped-1.12.20\n"
          ]
        }
      ]
    },
    {
      "cell_type": "code",
      "source": [
        "from cog import BasePredictor, Input, Path, BaseModel\n",
        "import os\n",
        "import time\n",
        "import wave\n",
        "import torch\n",
        "from faster_whisper import WhisperModel\n",
        "import datetime\n",
        "import contextlib\n",
        "import numpy as np\n",
        "from pyannote.audio import Audio\n",
        "from pyannote.core import Segment\n",
        "from sklearn.cluster import AgglomerativeClustering\n",
        "from pyannote.audio.pipelines.speaker_verification import PretrainedSpeakerEmbedding\n",
        "from typing import Any\n",
        "from sklearn.metrics import silhouette_score\n"
      ],
      "metadata": {
        "id": "6nYPQkjCyOBs"
      },
      "execution_count": null,
      "outputs": []
    },
    {
      "cell_type": "code",
      "execution_count": 36,
      "metadata": {
        "id": "MKOk-xAemiBo"
      },
      "outputs": [],
      "source": [
        "\n",
        "class ModelOutput(BaseModel):\n",
        "    segments: Any\n",
        "\n",
        "class Predictor(BasePredictor):\n",
        "    def setup(self):\n",
        "        model_name = \"medium\"\n",
        "        self.model = WhisperModel(model_name, device=\"cuda\", compute_type=\"float16\")\n",
        "        self.embedding_model = PretrainedSpeakerEmbedding(\"speechbrain/spkrec-ecapa-voxceleb\",\n",
        "                                                          device=torch.device(\"cuda\" if torch.cuda.is_available() else \"cpu\"))\n",
        "\n",
        "    def predict(self, audio: Path = Input(description=\"An audio file\", default=None),\n",
        "                group_segments: bool = Input(description=\"Group segments of the same speaker shorter apart than 2 seconds\", default=True),\n",
        "                num_speakers: int = Input(description=\"Number of speakers\", ge=0, le=25, default=0),\n",
        "                prompt: str = Input(description=\"Prompt, to be used as context\", default=\"Some people speaking.\"),\n",
        "                offset_seconds: int = Input(description=\"Offset in seconds for chunking inputs\", default=0, ge=0)) -> ModelOutput:\n",
        "        filepath = audio\n",
        "        segments = self.speech_to_text(filepath, num_speakers, prompt, offset_seconds, group_segments)\n",
        "        return ModelOutput(segments=segments, offset_seconds=offset_seconds)\n",
        "\n",
        "    def convert_time(self, secs, offset_seconds=0):\n",
        "        return datetime.timedelta(seconds=(round(secs) + offset_seconds))\n",
        "\n",
        "    def speech_to_text(self, filepath, num_speakers, prompt=\"People talking.\", offset_seconds=0, group_segments=True):\n",
        "        time_start = time.time()\n",
        "        try:\n",
        "            audio_file_wav = self.convert_audio_to_wav(filepath)\n",
        "            duration = self.get_audio_duration(audio_file_wav)\n",
        "            segments = self.transcribe_audio(audio_file_wav, prompt)\n",
        "            segments = self.convert_segments(segments)\n",
        "            embeddings = self.create_embeddings(segments, audio_file_wav, duration)\n",
        "            speaker_count = self.find_speaker_count(embeddings, num_speakers)\n",
        "            output = self.assign_speaker_labels(segments, embeddings, speaker_count, offset_seconds, group_segments)\n",
        "            time_end = time.time()\n",
        "            time_diff = time_end - time_start\n",
        "            system_info = f\"Processing time: {time_diff:.5} seconds\"\n",
        "            print(system_info)\n",
        "            os.remove(audio_file_wav)\n",
        "            return output\n",
        "        except Exception as e:\n",
        "            os.remove(audio_file_wav)\n",
        "            raise RuntimeError(\"Error running inference with local model\", e)\n",
        "\n",
        "    def convert_audio_to_wav(self, filepath):\n",
        "        file_ending = os.path.splitext(f'{filepath}')[-1]\n",
        "        print(f'File ending: \"{file_ending}\"')\n",
        "        if file_ending != '.wav':\n",
        "            audio_file_wav = str(filepath).replace(file_ending, \".wav\")\n",
        "            print(\"Starting conversion to wav\")\n",
        "            os.system(f'ffmpeg -i \"{filepath}\" -ar 16000 -ac 1 -c:a pcm_s16le \"{audio_file_wav}\"')\n",
        "        else:\n",
        "            audio_file_wav = filepath\n",
        "        return audio_file_wav\n",
        "\n",
        "    def get_audio_duration(self, audio_file_wav):\n",
        "        with contextlib.closing(wave.open(audio_file_wav, 'r')) as f:\n",
        "            frames = f.getnframes()\n",
        "            rate = f.getframerate()\n",
        "            duration = frames / float(rate)\n",
        "        print(f\"Conversion to wav ready, duration of audio file: {duration}\")\n",
        "        return duration\n",
        "\n",
        "    def transcribe_audio(self, audio_file_wav, prompt):\n",
        "        print(\"Starting whisper\")\n",
        "        options = dict(beam_size=5, best_of=5)\n",
        "        transcribe_options = dict(task=\"transcribe\",\n",
        "                                  word_timestamps=True,\n",
        "                                  vad_filter=True,\n",
        "                                  **options)\n",
        "        print(prompt)\n",
        "        segments, _ = self.model.transcribe(audio_file_wav, **transcribe_options, initial_prompt=prompt)\n",
        "        print(\"Done with whisper\")\n",
        "        result = list(segments)\n",
        "        print(f\"Sample segment::{result[0]}\")\n",
        "        return result\n",
        "\n",
        "    def convert_segments(self, segments):\n",
        "        return [\n",
        "            {\n",
        "                'start': int(s.start),\n",
        "                'end': int(s.end),\n",
        "                'text': s.text,\n",
        "                'words': s.words\n",
        "            }\n",
        "            for s in segments]\n",
        "\n",
        "    def create_embeddings(self, segments, audio_file_wav, duration):\n",
        "        print(\"Starting embedding\")\n",
        "        embeddings = np.zeros(shape=(len(segments), 192))\n",
        "        audio = Audio()\n",
        "        for i, segment in enumerate(segments):\n",
        "            waveform, sample_rate = audio.crop(audio_file_wav, Segment(segment[\"start\"], min(duration, segment[\"end\"])))\n",
        "            embeddings[i] = self.embedding_model(waveform[None])\n",
        "        embeddings = np.nan_to_num(embeddings)\n",
        "        print(f'Embedding shape: {embeddings.shape}')\n",
        "        return embeddings\n",
        "    \n",
        "    def find_speaker_count(self, embeddings, speaker_count_override):\n",
        "        if speaker_count_override == 0:\n",
        "            # Find the best number of speakers\n",
        "            score_num_speakers = {}\n",
        "            for num_speakers in range(2, 10):\n",
        "                clustering = AgglomerativeClustering(num_speakers).fit(embeddings)\n",
        "                score = silhouette_score(embeddings, clustering.labels_, metric='euclidean')\n",
        "                score_num_speakers[num_speakers] = score\n",
        "            best_num_speaker = max(score_num_speakers, key=lambda x:score_num_speakers[x])\n",
        "            print(f\"The best number of speakers: {best_num_speaker} with {score_num_speakers[best_num_speaker]} score\")\n",
        "        else:\n",
        "            best_num_speaker = speaker_count_override\n",
        "        return best_num_speaker\n",
        "\n",
        "    def assign_speaker_labels(self, segments, embeddings, num_speakers, offset_seconds, group_segments):\n",
        "        clustering = AgglomerativeClustering(num_speakers).fit(embeddings)\n",
        "        labels = clustering.labels_\n",
        "        for i in range(len(segments)):\n",
        "            segments[i][\"speaker\"] = 'SPEAKER ' + str(labels[i] + 1)\n",
        "        output = []\n",
        "        current_group = {\n",
        "            'start': str(round(segments[0][\"start\"] + offset_seconds)),\n",
        "            'end': str(round(segments[0][\"end\"] + offset_seconds)),\n",
        "            'speaker': segments[0][\"speaker\"],\n",
        "            'text': segments[0][\"text\"],\n",
        "            'words': segments[0][\"words\"]\n",
        "        }\n",
        "        for i in range(1, len(segments)):\n",
        "            time_gap = segments[i][\"start\"] - segments[i - 1][\"end\"]\n",
        "            if segments[i][\"speaker\"] == segments[i - 1][\"speaker\"] and time_gap <= 2 and group_segments:\n",
        "                current_group[\"end\"] = str(round(segments[i][\"end\"] + offset_seconds))\n",
        "                current_group[\"text\"] += \" \" + segments[i][\"text\"]\n",
        "            else:\n",
        "                output.append(current_group)\n",
        "                current_group = {\n",
        "                    'start': str(round(segments[i][\"start\"] + offset_seconds)),\n",
        "                    'end': str(round(segments[i][\"end\"] + offset_seconds)),\n",
        "                    'speaker': segments[i][\"speaker\"],\n",
        "                    'text': segments[i][\"text\"],\n",
        "                    'words': segments[i][\"words\"]\n",
        "                }\n",
        "        output.append(current_group)\n",
        "        print(\"Embedding complete\")\n",
        "        return output\n",
        "        "
      ]
    },
    {
      "cell_type": "markdown",
      "source": [
        "# New Section"
      ],
      "metadata": {
        "id": "ZAAorYMdXISr"
      }
    },
    {
      "cell_type": "markdown",
      "source": [
        "# New Section"
      ],
      "metadata": {
        "id": "fUfgm_iDXI3i"
      }
    },
    {
      "cell_type": "markdown",
      "source": [
        "Setting up the Predictor class"
      ],
      "metadata": {
        "id": "DXClwpVCWJWR"
      }
    },
    {
      "cell_type": "code",
      "source": [
        "predictor = Predictor()\n",
        "predictor.setup()"
      ],
      "metadata": {
        "id": "3kbKIMwjUxLi"
      },
      "execution_count": 38,
      "outputs": []
    },
    {
      "cell_type": "markdown",
      "source": [
        "Run the test case"
      ],
      "metadata": {
        "id": "AX-3AVKGWOfZ"
      }
    },
    {
      "cell_type": "code",
      "source": [
        "import google.colab\n",
        "own_file, _ = google.colab.files.upload().popitem()\n",
        "OWN_FILE = {'audio': own_file}\n",
        "\n"
      ],
      "metadata": {
        "id": "OQDvcII3WIQp"
      },
      "execution_count": null,
      "outputs": []
    },
    {
      "cell_type": "code",
      "source": [
        "predictor.predict(OWN_FILE['audio'], group_segments=False, num_speakers=0, prompt=\"People talking\", offset_seconds=0)"
      ],
      "metadata": {
        "colab": {
          "base_uri": "https://localhost:8080/"
        },
        "id": "NsaUaRElbxMa",
        "outputId": "159d7e4c-8846-4cff-f3f7-9dbc8faad802"
      },
      "execution_count": 39,
      "outputs": [
        {
          "output_type": "stream",
          "name": "stdout",
          "text": [
            "File ending: \".mp3\"\n",
            "Starting conversion to wav\n",
            "Conversion to wav ready, duration of audio file: 279.7191875\n",
            "Starting whisper\n",
            "People talking\n",
            "Done with whisper\n",
            "Sample segment::Segment(id=1, seek=2632, start=0.3, end=8.2, text=' And finally, the last perfection is the balance of heart, of equanimity,', tokens=[50364, 400, 2721, 11, 264, 1036, 19708, 307, 264, 4772, 295, 1917, 11, 295, 1267, 17869, 507, 11, 50764], temperature=0.0, avg_logprob=-0.2075195317156613, compression_ratio=1.5568862275449102, no_speech_prob=0.452880859375, words=[Word(start=0.3, end=0.8, word=' And', probability=0.58447265625), Word(start=0.8, end=1.54, word=' finally,', probability=0.97119140625), Word(start=2.34, end=2.64, word=' the', probability=0.97216796875), Word(start=2.64, end=3.02, word=' last', probability=0.97998046875), Word(start=3.02, end=3.74, word=' perfection', probability=0.97705078125), Word(start=3.74, end=5.16, word=' is', probability=0.89599609375), Word(start=5.16, end=5.42, word=' the', probability=0.96875), Word(start=5.42, end=5.88, word=' balance', probability=0.99853515625), Word(start=5.88, end=6.2, word=' of', probability=0.9990234375), Word(start=6.2, end=6.6, word=' heart,', probability=0.98876953125), Word(start=6.84, end=7.2, word=' of', probability=0.990234375), Word(start=7.2, end=8.2, word=' equanimity,', probability=0.9982096354166666)])\n",
            "Starting embedding\n",
            "Embedding shape: (41, 192)\n",
            "The best number of speakers: 2 with 0.34356900531758156 score\n",
            "Embedding complete\n",
            "Processing time: 16.759 seconds\n"
          ]
        },
        {
          "output_type": "execute_result",
          "data": {
            "text/plain": [
              "ModelOutput(segments=[{'start': '0', 'end': '8', 'speaker': 'SPEAKER 1', 'text': ' And finally, the last perfection is the balance of heart, of equanimity,', 'words': [Word(start=0.3, end=0.8, word=' And', probability=0.58447265625), Word(start=0.8, end=1.54, word=' finally,', probability=0.97119140625), Word(start=2.34, end=2.64, word=' the', probability=0.97216796875), Word(start=2.64, end=3.02, word=' last', probability=0.97998046875), Word(start=3.02, end=3.74, word=' perfection', probability=0.97705078125), Word(start=3.74, end=5.16, word=' is', probability=0.89599609375), Word(start=5.16, end=5.42, word=' the', probability=0.96875), Word(start=5.42, end=5.88, word=' balance', probability=0.99853515625), Word(start=5.88, end=6.2, word=' of', probability=0.9990234375), Word(start=6.2, end=6.6, word=' heart,', probability=0.98876953125), Word(start=6.84, end=7.2, word=' of', probability=0.990234375), Word(start=7.2, end=8.2, word=' equanimity,', probability=0.9982096354166666)]}, {'start': '8', 'end': '17', 'speaker': 'SPEAKER 1', 'text': ' of resting in the crown chakra that sees the picture of the universe hundred thousand maha kalpas', 'words': [Word(start=8.92, end=9.08, word=' of', probability=0.98486328125), Word(start=9.08, end=9.5, word=' resting', probability=0.9970703125), Word(start=9.5, end=9.76, word=' in', probability=0.923828125), Word(start=9.76, end=10.0, word=' the', probability=0.99755859375), Word(start=10.0, end=10.36, word=' crown', probability=0.83837890625), Word(start=10.36, end=10.92, word=' chakra', probability=0.966796875), Word(start=10.92, end=11.78, word=' that', probability=0.91259765625), Word(start=11.78, end=12.08, word=' sees', probability=0.9921875), Word(start=12.08, end=12.42, word=' the', probability=0.998046875), Word(start=12.42, end=12.86, word=' picture', probability=0.9970703125), Word(start=12.86, end=13.28, word=' of', probability=0.9990234375), Word(start=13.28, end=14.16, word=' the', probability=0.998046875), Word(start=14.16, end=14.66, word=' universe', probability=0.95947265625), Word(start=14.66, end=15.3, word=' hundred', probability=0.1663818359375), Word(start=15.3, end=15.92, word=' thousand', probability=0.958984375), Word(start=15.92, end=16.46, word=' maha', probability=0.698486328125), Word(start=16.46, end=17.16, word=' kalpas', probability=0.782958984375)]}, {'start': '17', 'end': '26', 'speaker': 'SPEAKER 1', 'text': ' and the changes of the worldly winds, praise and blame, gain and loss, pleasure and pain,', 'words': [Word(start=17.16, end=18.16, word=' and', probability=0.50244140625), Word(start=18.16, end=18.44, word=' the', probability=0.9951171875), Word(start=18.44, end=18.8, word=' changes', probability=0.998046875), Word(start=18.8, end=19.1, word=' of', probability=0.9931640625), Word(start=19.1, end=19.32, word=' the', probability=0.9990234375), Word(start=19.32, end=19.66, word=' worldly', probability=0.99609375), Word(start=19.66, end=20.48, word=' winds,', probability=0.90185546875), Word(start=21.1, end=21.6, word=' praise', probability=0.9970703125), Word(start=21.6, end=21.96, word=' and', probability=0.99462890625), Word(start=21.96, end=22.52, word=' blame,', probability=0.99853515625), Word(start=23.54, end=23.84, word=' gain', probability=0.9990234375), Word(start=23.84, end=24.16, word=' and', probability=0.998046875), Word(start=24.16, end=24.74, word=' loss,', probability=0.99365234375), Word(start=25.38, end=25.76, word=' pleasure', probability=0.99853515625), Word(start=25.76, end=26.12, word=' and', probability=0.9970703125), Word(start=26.12, end=26.62, word=' pain,', probability=0.99951171875)]}, {'start': '27', 'end': '35', 'speaker': 'SPEAKER 1', 'text': ' fame and disrepute, all changing day after day, all the changes of all beings.', 'words': [Word(start=27.14, end=27.66, word=' fame', probability=0.1976318359375), Word(start=27.66, end=27.96, word=' and', probability=0.8955078125), Word(start=27.96, end=29.1, word=' disrepute,', probability=0.986328125), Word(start=29.54, end=29.74, word=' all', probability=0.97705078125), Word(start=29.74, end=30.36, word=' changing', probability=0.986328125), Word(start=30.36, end=31.04, word=' day', probability=0.697265625), Word(start=31.04, end=31.5, word=' after', probability=0.990234375), Word(start=31.5, end=32.16, word=' day,', probability=0.99853515625), Word(start=32.88, end=33.22, word=' all', probability=0.984375), Word(start=33.22, end=33.5, word=' the', probability=0.986328125), Word(start=33.5, end=33.92, word=' changes', probability=0.99755859375), Word(start=33.92, end=34.36, word=' of', probability=0.99462890625), Word(start=34.36, end=34.66, word=' all', probability=0.99658203125), Word(start=34.66, end=35.28, word=' beings.', probability=0.978515625)]}, {'start': '36', 'end': '41', 'speaker': 'SPEAKER 1', 'text': ' A friend who was speaking with Ram Dass recently asked him how that his words have come back.', 'words': [Word(start=36.36, end=36.6, word=' A', probability=0.98876953125), Word(start=36.6, end=36.84, word=' friend', probability=0.99853515625), Word(start=36.84, end=37.0, word=' who', probability=0.95849609375), Word(start=37.0, end=37.14, word=' was', probability=0.74609375), Word(start=37.14, end=37.48, word=' speaking', probability=0.99853515625), Word(start=37.48, end=37.78, word=' with', probability=0.99072265625), Word(start=37.78, end=38.02, word=' Ram', probability=0.7724609375), Word(start=38.02, end=38.18, word=' Dass', probability=0.6845703125), Word(start=38.18, end=38.72, word=' recently', probability=0.9775390625), Word(start=38.72, end=39.14, word=' asked', probability=0.9638671875), Word(start=39.14, end=39.38, word=' him', probability=0.99072265625), Word(start=39.38, end=39.62, word=' how', probability=0.75390625), Word(start=39.62, end=39.82, word=' that', probability=0.7578125), Word(start=39.82, end=40.52, word=' his', probability=0.98291015625), Word(start=40.52, end=40.94, word=' words', probability=0.9873046875), Word(start=40.94, end=41.18, word=' have', probability=0.9765625), Word(start=41.18, end=41.44, word=' come', probability=0.99560546875), Word(start=41.44, end=41.72, word=' back.', probability=0.9990234375)]}, {'start': '41', 'end': '46', 'speaker': 'SPEAKER 1', 'text': ' What has it been like for you? And he said, so much of it has been like a dream.', 'words': [Word(start=41.96, end=42.18, word=' What', probability=0.5771484375), Word(start=42.18, end=42.42, word=' has', probability=0.8642578125), Word(start=42.42, end=42.58, word=' it', probability=0.9814453125), Word(start=42.58, end=42.72, word=' been', probability=0.99853515625), Word(start=42.72, end=43.06, word=' like', probability=0.99853515625), Word(start=43.06, end=43.36, word=' for', probability=0.9970703125), Word(start=43.36, end=43.64, word=' you?', probability=0.99853515625), Word(start=44.02, end=44.2, word=' And', probability=0.44384765625), Word(start=44.2, end=44.32, word=' he', probability=0.98486328125), Word(start=44.32, end=44.46, word=' said,', probability=0.98193359375), Word(start=44.5, end=44.76, word=' so', probability=0.5341796875), Word(start=44.76, end=45.06, word=' much', probability=0.998046875), Word(start=45.06, end=45.18, word=' of', probability=0.99462890625), Word(start=45.18, end=45.32, word=' it', probability=0.99658203125), Word(start=45.32, end=45.44, word=' has', probability=0.94970703125), Word(start=45.44, end=45.54, word=' been', probability=0.99951171875), Word(start=45.54, end=45.84, word=' like', probability=0.99853515625), Word(start=45.84, end=46.08, word=' a', probability=0.99853515625), Word(start=46.08, end=46.48, word=' dream.', probability=0.99951171875)]}, {'start': '47', 'end': '52', 'speaker': 'SPEAKER 1', 'text': ' I think of my old life and the things I used to do and people and where I used to go', 'words': [Word(start=47.4, end=47.78, word=' I', probability=0.98779296875), Word(start=47.78, end=47.98, word=' think', probability=0.9990234375), Word(start=47.98, end=48.24, word=' of', probability=0.9970703125), Word(start=48.24, end=48.44, word=' my', probability=0.9990234375), Word(start=48.44, end=48.76, word=' old', probability=0.98828125), Word(start=48.76, end=49.08, word=' life', probability=0.99951171875), Word(start=49.08, end=49.28, word=' and', probability=0.92138671875), Word(start=49.28, end=49.46, word=' the', probability=0.99755859375), Word(start=49.46, end=49.64, word=' things', probability=0.99951171875), Word(start=49.64, end=49.9, word=' I', probability=0.98876953125), Word(start=49.9, end=50.08, word=' used', probability=0.99072265625), Word(start=50.08, end=50.34, word=' to', probability=0.9990234375), Word(start=50.34, end=50.54, word=' do', probability=0.998046875), Word(start=50.54, end=50.74, word=' and', probability=0.8369140625), Word(start=50.74, end=51.06, word=' people', probability=0.98486328125), Word(start=51.06, end=51.28, word=' and', probability=0.87548828125), Word(start=51.28, end=51.42, word=' where', probability=0.9970703125), Word(start=51.42, end=51.94, word=' I', probability=0.99658203125), Word(start=51.94, end=52.16, word=' used', probability=0.98828125), Word(start=52.16, end=52.36, word=' to', probability=0.9990234375), Word(start=52.36, end=52.46, word=' go', probability=0.99853515625)]}, {'start': '52', 'end': '58', 'speaker': 'SPEAKER 1', 'text': ' and there I was lying in the hospital, hardly in my body and it all seems so much like a dream.', 'words': [Word(start=52.46, end=52.64, word=' and', probability=0.154296875), Word(start=52.64, end=52.72, word=' there', probability=0.72802734375), Word(start=52.72, end=52.96, word=' I', probability=0.9755859375), Word(start=52.96, end=53.12, word=' was', probability=0.998046875), Word(start=53.12, end=53.38, word=' lying', probability=0.68212890625), Word(start=53.38, end=53.58, word=' in', probability=0.99267578125), Word(start=53.58, end=53.64, word=' the', probability=0.986328125), Word(start=53.64, end=54.18, word=' hospital,', probability=0.99755859375), Word(start=54.78, end=54.82, word=' hardly', probability=0.994140625), Word(start=54.82, end=55.04, word=' in', probability=0.99609375), Word(start=55.04, end=55.34, word=' my', probability=0.998046875), Word(start=55.34, end=55.68, word=' body', probability=0.99951171875), Word(start=55.68, end=56.1, word=' and', probability=0.2420654296875), Word(start=56.1, end=56.28, word=' it', probability=0.982421875), Word(start=56.28, end=56.52, word=' all', probability=0.994140625), Word(start=56.52, end=56.8, word=' seems', probability=0.409423828125), Word(start=56.8, end=57.2, word=' so', probability=0.99072265625), Word(start=57.2, end=57.38, word=' much', probability=0.9990234375), Word(start=57.38, end=57.66, word=' like', probability=0.99853515625), Word(start=57.66, end=57.86, word=' a', probability=0.998046875), Word(start=57.86, end=58.2, word=' dream.', probability=0.9990234375)]}, {'start': '60', 'end': '67', 'speaker': 'SPEAKER 1', 'text': \" You think that's not so? Wait a little while, you'll see. It's here and then it's gone.\", 'words': [Word(start=60.58, end=60.8, word=' You', probability=0.57421875), Word(start=60.8, end=60.98, word=' think', probability=0.98974609375), Word(start=60.98, end=61.32, word=\" that's\", probability=0.97998046875), Word(start=61.32, end=61.66, word=' not', probability=0.99853515625), Word(start=61.66, end=62.18, word=' so?', probability=0.9970703125), Word(start=62.78, end=63.02, word=' Wait', probability=0.986328125), Word(start=63.02, end=63.16, word=' a', probability=0.99560546875), Word(start=63.16, end=63.44, word=' little', probability=0.99560546875), Word(start=63.44, end=63.8, word=' while,', probability=0.99755859375), Word(start=63.8, end=64.2, word=\" you'll\", probability=0.990966796875), Word(start=64.2, end=64.64, word=' see.', probability=0.99853515625), Word(start=65.22, end=65.52, word=\" It's\", probability=0.97509765625), Word(start=65.52, end=65.96, word=' here', probability=0.9990234375), Word(start=65.96, end=66.32, word=' and', probability=0.7939453125), Word(start=66.32, end=66.5, word=' then', probability=0.9921875), Word(start=66.5, end=66.76, word=\" it's\", probability=0.991455078125), Word(start=66.76, end=67.24, word=' gone.', probability=0.99951171875)]}, {'start': '67', 'end': '77', 'speaker': 'SPEAKER 1', 'text': \" It's quite amazing. And the quality of equanimity is then finding a peace in the midst of all the changes of life.\", 'words': [Word(start=67.5, end=67.88, word=\" It's\", probability=0.9912109375), Word(start=67.88, end=68.1, word=' quite', probability=0.99755859375), Word(start=68.1, end=68.86, word=' amazing.', probability=0.9990234375), Word(start=70.22, end=70.36, word=' And', probability=0.84619140625), Word(start=70.36, end=70.54, word=' the', probability=0.9892578125), Word(start=70.54, end=71.1, word=' quality', probability=0.9990234375), Word(start=71.1, end=71.36, word=' of', probability=0.99755859375), Word(start=71.36, end=72.14, word=' equanimity', probability=0.9754231770833334), Word(start=72.14, end=72.88, word=' is', probability=0.9794921875), Word(start=72.88, end=73.16, word=' then', probability=0.92724609375), Word(start=73.16, end=73.54, word=' finding', probability=0.99462890625), Word(start=73.54, end=73.96, word=' a', probability=0.978515625), Word(start=73.96, end=74.26, word=' peace', probability=0.849609375), Word(start=74.26, end=74.78, word=' in', probability=0.9951171875), Word(start=74.78, end=74.92, word=' the', probability=0.99658203125), Word(start=74.92, end=75.14, word=' midst', probability=0.9990234375), Word(start=75.14, end=75.48, word=' of', probability=0.9970703125), Word(start=75.48, end=75.78, word=' all', probability=0.99853515625), Word(start=75.78, end=76.06, word=' the', probability=0.990234375), Word(start=76.06, end=76.44, word=' changes', probability=0.99853515625), Word(start=76.44, end=76.78, word=' of', probability=0.94873046875), Word(start=76.78, end=77.1, word=' life.', probability=0.99755859375)]}, {'start': '79', 'end': '86', 'speaker': 'SPEAKER 1', 'text': ' I remember seeing in a museum in Boston a painting by Rembrandt, one of his most famous paintings,', 'words': [Word(start=79.26, end=79.74, word=' I', probability=0.248291015625), Word(start=79.74, end=79.22, word=' remember', probability=0.9345703125), Word(start=79.22, end=80.22, word=' seeing', probability=0.958984375), Word(start=80.22, end=80.74, word=' in', probability=0.74560546875), Word(start=80.74, end=81.1, word=' a', probability=0.8251953125), Word(start=81.1, end=81.52, word=' museum', probability=0.951171875), Word(start=81.52, end=81.72, word=' in', probability=0.9814453125), Word(start=81.72, end=82.36, word=' Boston', probability=0.99072265625), Word(start=82.36, end=83.26, word=' a', probability=0.75), Word(start=83.26, end=83.7, word=' painting', probability=0.9970703125), Word(start=83.7, end=84.02, word=' by', probability=0.962890625), Word(start=84.02, end=84.72, word=' Rembrandt,', probability=0.99658203125), Word(start=84.72, end=84.92, word=' one', probability=0.96923828125), Word(start=84.92, end=85.0, word=' of', probability=0.9970703125), Word(start=85.0, end=85.18, word=' his', probability=0.98583984375), Word(start=85.18, end=85.48, word=' most', probability=0.98388671875), Word(start=85.48, end=85.9, word=' famous', probability=0.9970703125), Word(start=85.9, end=86.48, word=' paintings,', probability=0.98779296875)]}, {'start': '87', 'end': '94', 'speaker': 'SPEAKER 1', 'text': ' of Jesus in the boat on the Sea of Galilee in the storm with all his disciples and the mast of the boat.', 'words': [Word(start=87.2, end=87.34, word=' of', probability=0.9794921875), Word(start=87.34, end=87.94, word=' Jesus', probability=0.99560546875), Word(start=87.94, end=88.56, word=' in', probability=0.8564453125), Word(start=88.56, end=88.8, word=' the', probability=0.94970703125), Word(start=88.8, end=89.08, word=' boat', probability=0.984375), Word(start=89.08, end=89.44, word=' on', probability=0.95703125), Word(start=89.44, end=89.52, word=' the', probability=0.98681640625), Word(start=89.52, end=89.8, word=' Sea', probability=0.85009765625), Word(start=89.8, end=89.94, word=' of', probability=0.9970703125), Word(start=89.94, end=90.58, word=' Galilee', probability=0.99169921875), Word(start=90.58, end=90.82, word=' in', probability=0.4091796875), Word(start=90.82, end=91.12, word=' the', probability=0.73681640625), Word(start=91.12, end=91.44, word=' storm', probability=0.99462890625), Word(start=91.44, end=91.7, word=' with', probability=0.87353515625), Word(start=91.7, end=91.92, word=' all', probability=0.9921875), Word(start=91.92, end=92.14, word=' his', probability=0.8291015625), Word(start=92.14, end=92.7, word=' disciples', probability=0.99560546875), Word(start=92.7, end=93.18, word=' and', probability=0.242919921875), Word(start=93.18, end=93.4, word=' the', probability=0.97314453125), Word(start=93.4, end=93.72, word=' mast', probability=0.96923828125), Word(start=93.72, end=93.98, word=' of', probability=0.9931640625), Word(start=93.98, end=94.1, word=' the', probability=0.994140625), Word(start=94.1, end=94.32, word=' boat.', probability=0.99267578125)]}, {'start': '94', 'end': '100', 'speaker': 'SPEAKER 1', 'text': \" There's this great huge storm that Rembrandt painted and the mast of the boat of the sailboat is like this cross in the middle\", 'words': [Word(start=94.44, end=94.54, word=\" There's\", probability=0.745361328125), Word(start=94.54, end=94.78, word=' this', probability=0.97509765625), Word(start=94.78, end=95.16, word=' great', probability=0.99169921875), Word(start=95.16, end=95.74, word=' huge', probability=0.6865234375), Word(start=95.74, end=96.2, word=' storm', probability=0.99658203125), Word(start=96.2, end=96.38, word=' that', probability=0.99267578125), Word(start=96.38, end=96.94, word=' Rembrandt', probability=0.9969075520833334), Word(start=96.94, end=97.16, word=' painted', probability=0.99658203125), Word(start=97.16, end=97.58, word=' and', probability=0.65576171875), Word(start=97.58, end=97.82, word=' the', probability=0.99755859375), Word(start=97.82, end=98.06, word=' mast', probability=0.990234375), Word(start=98.06, end=98.26, word=' of', probability=0.99658203125), Word(start=98.26, end=98.44, word=' the', probability=0.99658203125), Word(start=98.44, end=98.58, word=' boat', probability=0.98486328125), Word(start=98.58, end=98.72, word=' of', probability=0.72412109375), Word(start=98.72, end=98.92, word=' the', probability=0.81298828125), Word(start=98.92, end=99.16, word=' sailboat', probability=0.979736328125), Word(start=99.16, end=99.34, word=' is', probability=0.97607421875), Word(start=99.34, end=99.54, word=' like', probability=0.99609375), Word(start=99.54, end=99.82, word=' this', probability=0.984375), Word(start=99.82, end=100.18, word=' cross', probability=0.9833984375), Word(start=100.18, end=100.38, word=' in', probability=0.96533203125), Word(start=100.38, end=100.52, word=' the', probability=0.9990234375), Word(start=100.52, end=100.72, word=' middle', probability=0.99951171875)]}, {'start': '100', 'end': '105', 'speaker': 'SPEAKER 1', 'text': ' and there are all the disciples being seasick over the side of the boat and with these agonized faces', 'words': [Word(start=100.72, end=100.88, word=' and', probability=0.7099609375), Word(start=100.88, end=101.04, word=' there', probability=0.8564453125), Word(start=101.04, end=101.1, word=' are', probability=0.72509765625), Word(start=101.1, end=101.24, word=' all', probability=0.97705078125), Word(start=101.24, end=101.44, word=' the', probability=0.98974609375), Word(start=101.44, end=101.88, word=' disciples', probability=0.99462890625), Word(start=101.88, end=102.58, word=' being', probability=0.97900390625), Word(start=102.58, end=103.08, word=' seasick', probability=0.9892578125), Word(start=103.08, end=103.36, word=' over', probability=0.986328125), Word(start=103.36, end=103.58, word=' the', probability=0.998046875), Word(start=103.58, end=103.72, word=' side', probability=0.99560546875), Word(start=103.72, end=103.94, word=' of', probability=0.9990234375), Word(start=103.94, end=104.08, word=' the', probability=0.9990234375), Word(start=104.08, end=104.24, word=' boat', probability=0.99658203125), Word(start=104.24, end=104.4, word=' and', probability=0.76806640625), Word(start=104.4, end=104.54, word=' with', probability=0.99560546875), Word(start=104.54, end=104.82, word=' these', probability=0.99755859375), Word(start=104.82, end=105.48, word=' agonized', probability=0.9874674479166666), Word(start=105.48, end=105.86, word=' faces', probability=0.998046875)]}, {'start': '105', 'end': '110', 'speaker': 'SPEAKER 1', 'text': \" and there's Jesus standing in this ray of light that comes down from the cloud.\", 'words': [Word(start=105.86, end=106.32, word=' and', probability=0.324462890625), Word(start=106.32, end=106.6, word=\" there's\", probability=0.854248046875), Word(start=106.6, end=107.02, word=' Jesus', probability=0.98779296875), Word(start=107.02, end=107.46, word=' standing', probability=0.98583984375), Word(start=107.46, end=107.68, word=' in', probability=0.98876953125), Word(start=107.68, end=107.86, word=' this', probability=0.8955078125), Word(start=107.86, end=108.02, word=' ray', probability=0.990234375), Word(start=108.02, end=108.2, word=' of', probability=0.99755859375), Word(start=108.2, end=108.46, word=' light', probability=0.994140625), Word(start=108.46, end=108.66, word=' that', probability=0.96728515625), Word(start=108.66, end=108.92, word=' comes', probability=0.99267578125), Word(start=108.92, end=109.24, word=' down', probability=0.990234375), Word(start=109.24, end=109.46, word=' from', probability=0.994140625), Word(start=109.46, end=109.68, word=' the', probability=0.9931640625), Word(start=109.68, end=110.2, word=' cloud.', probability=0.9111328125)]}, {'start': '110', 'end': '114', 'speaker': 'SPEAKER 1', 'text': \" It's quite a beautiful and remarkable scene that he painted.\", 'words': [Word(start=110.78, end=110.92, word=\" It's\", probability=0.911865234375), Word(start=110.92, end=111.2, word=' quite', probability=0.9951171875), Word(start=111.2, end=111.46, word=' a', probability=0.8720703125), Word(start=111.46, end=112.06, word=' beautiful', probability=0.9970703125), Word(start=112.06, end=112.54, word=' and', probability=0.96630859375), Word(start=112.54, end=113.14, word=' remarkable', probability=0.9833984375), Word(start=113.14, end=113.58, word=' scene', probability=0.99658203125), Word(start=113.58, end=113.76, word=' that', probability=0.98486328125), Word(start=113.76, end=113.94, word=' he', probability=0.8701171875), Word(start=113.94, end=114.48, word=' painted.', probability=0.99267578125)]}, {'start': '116', 'end': '124', 'speaker': 'SPEAKER 1', 'text': ' In the Gospel story, where the apostles get trapped in that sudden and wild storm on the Sea of Galilee,', 'words': [Word(start=116.77, end=116.97, word=' In', probability=0.95849609375), Word(start=116.97, end=117.21, word=' the', probability=0.9921875), Word(start=117.21, end=117.73, word=' Gospel', probability=0.5595703125), Word(start=117.73, end=118.41, word=' story,', probability=0.9140625), Word(start=119.11, end=119.27, word=' where', probability=0.98486328125), Word(start=119.27, end=119.55, word=' the', probability=0.99755859375), Word(start=119.55, end=120.13, word=' apostles', probability=0.521484375), Word(start=120.13, end=120.49, word=' get', probability=0.98828125), Word(start=120.49, end=120.83, word=' trapped', probability=0.99853515625), Word(start=120.83, end=121.01, word=' in', probability=0.994140625), Word(start=121.01, end=121.31, word=' that', probability=0.98291015625), Word(start=121.31, end=121.69, word=' sudden', probability=0.998046875), Word(start=121.69, end=122.05, word=' and', probability=0.98779296875), Word(start=122.05, end=122.37, word=' wild', probability=0.99853515625), Word(start=122.37, end=122.83, word=' storm', probability=0.9970703125), Word(start=122.83, end=123.09, word=' on', probability=0.97802734375), Word(start=123.09, end=123.25, word=' the', probability=0.99755859375), Word(start=123.25, end=123.47, word=' Sea', probability=0.76953125), Word(start=123.47, end=123.79, word=' of', probability=0.99853515625), Word(start=123.79, end=124.43, word=' Galilee,', probability=0.9970703125)]}, {'start': '124', 'end': '128', 'speaker': 'SPEAKER 1', 'text': ' we find a lesson for all who would make peace in the world.', 'words': [Word(start=124.79, end=124.99, word=' we', probability=0.98828125), Word(start=124.99, end=125.31, word=' find', probability=0.998046875), Word(start=125.31, end=125.53, word=' a', probability=0.77099609375), Word(start=125.53, end=125.81, word=' lesson', probability=0.9990234375), Word(start=125.81, end=126.09, word=' for', probability=0.9951171875), Word(start=126.09, end=126.49, word=' all', probability=0.99951171875), Word(start=126.49, end=126.67, word=' who', probability=0.9931640625), Word(start=126.67, end=126.89, word=' would', probability=0.99658203125), Word(start=126.89, end=127.15, word=' make', probability=0.99853515625), Word(start=127.15, end=127.55, word=' peace', probability=0.99755859375), Word(start=127.55, end=127.75, word=' in', probability=0.9990234375), Word(start=127.75, end=127.97, word=' the', probability=0.99853515625), Word(start=127.97, end=128.51, word=' world.', probability=0.9931640625)]}, {'start': '129', 'end': '133', 'speaker': 'SPEAKER 1', 'text': ' For when the waves first rose, the boat began to rock.', 'words': [Word(start=129.33, end=129.57, word=' For', probability=0.9033203125), Word(start=129.57, end=129.81, word=' when', probability=0.97998046875), Word(start=129.81, end=130.05, word=' the', probability=0.99658203125), Word(start=130.05, end=130.39, word=' waves', probability=0.9970703125), Word(start=130.39, end=130.89, word=' first', probability=0.998046875), Word(start=130.89, end=131.41, word=' rose,', probability=0.994140625), Word(start=131.85, end=132.03, word=' the', probability=0.99365234375), Word(start=132.03, end=132.27, word=' boat', probability=0.9912109375), Word(start=132.27, end=132.71, word=' began', probability=0.9970703125), Word(start=132.71, end=132.99, word=' to', probability=0.99951171875), Word(start=132.99, end=133.35, word=' rock.', probability=0.99853515625)]}, {'start': '133', 'end': '139', 'speaker': 'SPEAKER 1', 'text': ' The apostles worked hard and with hope in order to survive the storm raging around them.', 'words': [Word(start=133.35, end=134.13, word=' The', probability=0.47021484375), Word(start=134.13, end=134.67, word=' apostles', probability=0.87841796875), Word(start=134.67, end=135.03, word=' worked', probability=0.457275390625), Word(start=135.03, end=135.33, word=' hard', probability=0.99658203125), Word(start=135.33, end=135.51, word=' and', probability=0.9541015625), Word(start=135.51, end=135.67, word=' with', probability=0.998046875), Word(start=135.67, end=135.95, word=' hope', probability=0.9970703125), Word(start=135.95, end=136.09, word=' in', probability=0.93310546875), Word(start=136.09, end=136.39, word=' order', probability=0.9990234375), Word(start=136.39, end=136.65, word=' to', probability=0.99853515625), Word(start=136.65, end=137.13, word=' survive', probability=0.99853515625), Word(start=137.13, end=137.47, word=' the', probability=0.955078125), Word(start=137.47, end=137.83, word=' storm', probability=0.9990234375), Word(start=137.83, end=138.37, word=' raging', probability=0.99462890625), Word(start=138.37, end=139.29, word=' around', probability=0.99755859375), Word(start=139.29, end=139.75, word=' them.', probability=0.9990234375)]}, {'start': '140', 'end': '146', 'speaker': 'SPEAKER 1', 'text': ' But then they lost heart and allowed the storm outside to come inside.', 'words': [Word(start=140.65, end=140.99, word=' But', probability=0.9951171875), Word(start=140.99, end=141.25, word=' then', probability=0.98828125), Word(start=141.25, end=141.49, word=' they', probability=0.96240234375), Word(start=141.49, end=141.87, word=' lost', probability=0.99853515625), Word(start=141.87, end=142.39, word=' heart', probability=0.99462890625), Word(start=142.39, end=143.15, word=' and', probability=0.849609375), Word(start=143.15, end=143.41, word=' allowed', probability=0.9189453125), Word(start=143.41, end=143.77, word=' the', probability=0.994140625), Word(start=143.77, end=144.03, word=' storm', probability=0.99951171875), Word(start=144.03, end=144.83, word=' outside', probability=0.99853515625), Word(start=144.83, end=145.45, word=' to', probability=0.99267578125), Word(start=145.45, end=145.67, word=' come', probability=0.99951171875), Word(start=145.67, end=146.51, word=' inside.', probability=0.9990234375)]}, {'start': '147', 'end': '151', 'speaker': 'SPEAKER 1', 'text': \" It's easy to imagine them frantic, disconnected, out of control.\", 'words': [Word(start=147.35, end=147.61, word=\" It's\", probability=0.9931640625), Word(start=147.61, end=147.93, word=' easy', probability=0.99951171875), Word(start=147.93, end=148.25, word=' to', probability=0.99951171875), Word(start=148.25, end=148.69, word=' imagine', probability=0.99755859375), Word(start=148.69, end=149.05, word=' them', probability=0.9541015625), Word(start=149.05, end=149.57, word=' frantic,', probability=0.865234375), Word(start=149.83, end=150.43, word=' disconnected,', probability=0.99951171875), Word(start=150.87, end=151.09, word=' out', probability=0.998046875), Word(start=151.09, end=151.29, word=' of', probability=0.9990234375), Word(start=151.29, end=151.91, word=' control.', probability=0.99951171875)]}, {'start': '152', 'end': '159', 'speaker': 'SPEAKER 1', 'text': ' In their desperation, they waken a peaceful Jesus who questions their faith', 'words': [Word(start=152.31, end=152.59, word=' In', probability=0.99462890625), Word(start=152.59, end=152.83, word=' their', probability=0.99951171875), Word(start=152.83, end=153.69, word=' desperation,', probability=0.99951171875), Word(start=154.45, end=154.69, word=' they', probability=0.998046875), Word(start=154.69, end=155.23, word=' waken', probability=0.885009765625), Word(start=155.23, end=156.03, word=' a', probability=0.98095703125), Word(start=156.03, end=156.53, word=' peaceful', probability=0.99755859375), Word(start=156.53, end=157.31, word=' Jesus', probability=0.99755859375), Word(start=157.31, end=157.95, word=' who', probability=0.8876953125), Word(start=157.95, end=158.51, word=' questions', probability=0.99267578125), Word(start=158.51, end=158.91, word=' their', probability=0.99951171875), Word(start=158.91, end=159.37, word=' faith', probability=0.99609375)]}, {'start': '159', 'end': '167', 'speaker': 'SPEAKER 1', 'text': ' and calms the storm by projecting his inner stillness, his inner harmony, his inner peace.', 'words': [Word(start=159.37, end=160.01, word=' and', probability=0.89892578125), Word(start=160.01, end=160.45, word=' calms', probability=0.990966796875), Word(start=160.45, end=160.79, word=' the', probability=0.99853515625), Word(start=160.79, end=161.33, word=' storm', probability=0.99853515625), Word(start=161.33, end=162.07, word=' by', probability=0.962890625), Word(start=162.07, end=162.63, word=' projecting', probability=0.99755859375), Word(start=162.63, end=163.01, word=' his', probability=0.8505859375), Word(start=163.01, end=163.39, word=' inner', probability=0.9990234375), Word(start=163.39, end=164.15, word=' stillness,', probability=0.99853515625), Word(start=164.69, end=164.87, word=' his', probability=0.99755859375), Word(start=164.87, end=165.19, word=' inner', probability=0.99951171875), Word(start=165.19, end=165.73, word=' harmony,', probability=0.99853515625), Word(start=166.39, end=166.67, word=' his', probability=0.99609375), Word(start=166.67, end=167.05, word=' inner', probability=0.99951171875), Word(start=167.05, end=167.75, word=' peace.', probability=0.99755859375)]}, {'start': '168', 'end': '174', 'speaker': 'SPEAKER 1', 'text': ' Sometimes we who would make peace in the world are more like the apostles', 'words': [Word(start=168.87, end=169.53, word=' Sometimes', probability=0.998046875), Word(start=169.53, end=170.07, word=' we', probability=0.89794921875), Word(start=170.07, end=170.39, word=' who', probability=0.85693359375), Word(start=170.39, end=170.69, word=' would', probability=0.99609375), Word(start=170.69, end=170.93, word=' make', probability=0.99853515625), Word(start=170.93, end=171.31, word=' peace', probability=0.9970703125), Word(start=171.31, end=171.53, word=' in', probability=0.99951171875), Word(start=171.53, end=171.73, word=' the', probability=0.99951171875), Word(start=171.73, end=172.11, word=' world', probability=0.998046875), Word(start=172.11, end=172.47, word=' are', probability=0.3994140625), Word(start=172.47, end=172.77, word=' more', probability=0.99853515625), Word(start=172.77, end=173.01, word=' like', probability=0.990234375), Word(start=173.01, end=173.31, word=' the', probability=0.998046875), Word(start=173.31, end=174.05, word=' apostles', probability=0.82861328125)]}, {'start': '174', 'end': '179', 'speaker': 'SPEAKER 1', 'text': ' who allow the chaos of the world to come into us.', 'words': [Word(start=174.05, end=175.93, word=' who', probability=0.424072265625), Word(start=175.93, end=176.31, word=' allow', probability=0.80615234375), Word(start=176.31, end=176.61, word=' the', probability=0.99560546875), Word(start=176.61, end=177.09, word=' chaos', probability=0.9970703125), Word(start=177.09, end=177.37, word=' of', probability=0.99658203125), Word(start=177.37, end=177.57, word=' the', probability=0.99951171875), Word(start=177.57, end=177.79, word=' world', probability=0.9990234375), Word(start=177.79, end=178.09, word=' to', probability=0.9970703125), Word(start=178.09, end=178.27, word=' come', probability=0.99951171875), Word(start=178.27, end=178.63, word=' into', probability=0.95166015625), Word(start=178.63, end=179.35, word=' us.', probability=0.99951171875)]}, {'start': '180', 'end': '188', 'speaker': 'SPEAKER 1', 'text': ' What we might do instead is become like Jesus to have that still center that nothing can disturb', 'words': [Word(start=180.13, end=180.39, word=' What', probability=0.99853515625), Word(start=180.39, end=180.69, word=' we', probability=0.9990234375), Word(start=180.69, end=181.01, word=' might', probability=0.9990234375), Word(start=181.01, end=181.37, word=' do', probability=0.998046875), Word(start=181.37, end=182.15, word=' instead', probability=0.9912109375), Word(start=182.15, end=182.77, word=' is', probability=0.93505859375), Word(start=182.77, end=183.15, word=' become', probability=0.99755859375), Word(start=183.15, end=183.49, word=' like', probability=0.99755859375), Word(start=183.49, end=184.19, word=' Jesus', probability=0.99853515625), Word(start=184.19, end=184.73, word=' to', probability=0.59326171875), Word(start=184.73, end=185.03, word=' have', probability=0.99951171875), Word(start=185.03, end=185.51, word=' that', probability=0.998046875), Word(start=185.51, end=185.77, word=' still', probability=0.9951171875), Word(start=185.77, end=186.35, word=' center', probability=0.97998046875), Word(start=186.35, end=187.17, word=' that', probability=0.95751953125), Word(start=187.17, end=187.59, word=' nothing', probability=0.99951171875), Word(start=187.59, end=188.03, word=' can', probability=0.9990234375), Word(start=188.03, end=188.83, word=' disturb', probability=0.994140625)]}, {'start': '188', 'end': '196', 'speaker': 'SPEAKER 1', 'text': ' and in that way we are the peacemakers, persons who bring peace wherever we go.', 'words': [Word(start=188.87, end=189.67, word=' and', probability=0.29296875), Word(start=189.67, end=189.89, word=' in', probability=0.98193359375), Word(start=189.89, end=190.19, word=' that', probability=0.9990234375), Word(start=190.19, end=190.63, word=' way', probability=0.99853515625), Word(start=190.63, end=191.19, word=' we', probability=0.5302734375), Word(start=191.19, end=191.61, word=' are', probability=0.99755859375), Word(start=191.61, end=191.87, word=' the', probability=0.9970703125), Word(start=191.87, end=192.83, word=' peacemakers,', probability=0.9710286458333334), Word(start=193.17, end=193.73, word=' persons', probability=0.99609375), Word(start=193.73, end=194.27, word=' who', probability=0.99267578125), Word(start=194.27, end=194.57, word=' bring', probability=0.9990234375), Word(start=194.57, end=195.33, word=' peace', probability=0.99755859375), Word(start=195.33, end=195.91, word=' wherever', probability=0.953125), Word(start=195.91, end=196.29, word=' we', probability=0.99951171875), Word(start=196.29, end=196.77, word=' go.', probability=0.99951171875)]}, {'start': '199', 'end': '204', 'speaker': 'SPEAKER 1', 'text': ' The quality of equanimity is not a removal from the storm or the world,', 'words': [Word(start=199.5, end=199.8, word=' The', probability=0.9951171875), Word(start=199.8, end=200.28, word=' quality', probability=0.998046875), Word(start=200.28, end=200.6, word=' of', probability=0.99658203125), Word(start=200.6, end=201.3, word=' equanimity', probability=0.9983723958333334), Word(start=201.3, end=201.74, word=' is', probability=0.994140625), Word(start=201.74, end=202.04, word=' not', probability=0.99951171875), Word(start=202.04, end=202.44, word=' a', probability=0.99658203125), Word(start=202.44, end=202.88, word=' removal', probability=0.99755859375), Word(start=202.88, end=203.22, word=' from', probability=0.998046875), Word(start=203.22, end=203.56, word=' the', probability=0.998046875), Word(start=203.56, end=203.84, word=' storm', probability=0.9990234375), Word(start=203.84, end=204.1, word=' or', probability=0.9794921875), Word(start=204.1, end=204.36, word=' the', probability=0.99853515625), Word(start=204.36, end=204.82, word=' world,', probability=0.99853515625)]}, {'start': '206', 'end': '210', 'speaker': 'SPEAKER 1', 'text': ' but a caring for things from the place of a peaceful heart,', 'words': [Word(start=206.14, end=206.4, word=' but', probability=0.9990234375), Word(start=206.4, end=206.7, word=' a', probability=0.9921875), Word(start=206.7, end=207.06, word=' caring', probability=0.99853515625), Word(start=207.06, end=207.46, word=' for', probability=0.99658203125), Word(start=207.46, end=208.04, word=' things', probability=0.9970703125), Word(start=208.04, end=208.56, word=' from', probability=0.96923828125), Word(start=208.56, end=208.86, word=' the', probability=0.994140625), Word(start=208.86, end=209.2, word=' place', probability=0.99951171875), Word(start=209.2, end=209.48, word=' of', probability=0.99853515625), Word(start=209.48, end=209.72, word=' a', probability=0.97509765625), Word(start=209.72, end=210.06, word=' peaceful', probability=0.99853515625), Word(start=210.06, end=210.72, word=' heart,', probability=0.9990234375)]}, {'start': '211', 'end': '220', 'speaker': 'SPEAKER 1', 'text': ' of seeing the lawful unfolding of life and not falling under its spell in some one-sided way.', 'words': [Word(start=211.14, end=212.02, word=' of', probability=0.8095703125), Word(start=212.02, end=212.42, word=' seeing', probability=0.98828125), Word(start=212.42, end=212.78, word=' the', probability=0.99609375), Word(start=212.78, end=213.54, word=' lawful', probability=0.997802734375), Word(start=213.54, end=214.26, word=' unfolding', probability=0.998046875), Word(start=214.26, end=214.6, word=' of', probability=0.9990234375), Word(start=214.6, end=215.02, word=' life', probability=0.99755859375), Word(start=215.02, end=215.54, word=' and', probability=0.88720703125), Word(start=215.54, end=215.9, word=' not', probability=0.99951171875), Word(start=215.9, end=216.34, word=' falling', probability=0.998046875), Word(start=216.34, end=216.9, word=' under', probability=0.9990234375), Word(start=216.9, end=217.42, word=' its', probability=0.953125), Word(start=217.42, end=217.94, word=' spell', probability=0.99755859375), Word(start=217.94, end=218.84, word=' in', probability=0.96533203125), Word(start=218.84, end=219.08, word=' some', probability=0.9794921875), Word(start=219.08, end=219.44, word=' one', probability=0.98779296875), Word(start=219.44, end=219.84, word='-sided', probability=0.913818359375), Word(start=219.84, end=220.62, word=' way.', probability=0.998046875)]}, {'start': '221', 'end': '226', 'speaker': 'SPEAKER 1', 'text': ' Like the earth that receives perfumes and garbage equally', 'words': [Word(start=221.94, end=222.34, word=' Like', probability=0.99365234375), Word(start=222.34, end=222.62, word=' the', probability=0.99853515625), Word(start=222.62, end=222.88, word=' earth', probability=0.88671875), Word(start=222.88, end=223.22, word=' that', probability=0.98779296875), Word(start=223.22, end=223.9, word=' receives', probability=0.9892578125), Word(start=223.9, end=224.84, word=' perfumes', probability=0.99365234375), Word(start=224.84, end=225.12, word=' and', probability=0.9912109375), Word(start=225.12, end=225.6, word=' garbage', probability=0.99951171875), Word(start=225.6, end=226.28, word=' equally', probability=0.99560546875)]}, {'start': '226', 'end': '234', 'speaker': 'SPEAKER 1', 'text': ' or like the rain that falls and nourishes the gardens of the just and the unjust alike,', 'words': [Word(start=226.28, end=226.94, word=' or', probability=0.379638671875), Word(start=226.94, end=227.2, word=' like', probability=0.9951171875), Word(start=227.2, end=227.46, word=' the', probability=0.99853515625), Word(start=227.46, end=227.84, word=' rain', probability=0.99609375), Word(start=227.84, end=228.4, word=' that', probability=0.99560546875), Word(start=228.4, end=229.12, word=' falls', probability=0.9970703125), Word(start=229.12, end=230.0, word=' and', probability=0.97021484375), Word(start=230.0, end=230.54, word=' nourishes', probability=0.996826171875), Word(start=230.54, end=230.88, word=' the', probability=0.99658203125), Word(start=230.88, end=231.32, word=' gardens', probability=0.99169921875), Word(start=231.32, end=231.6, word=' of', probability=0.99755859375), Word(start=231.6, end=231.84, word=' the', probability=0.998046875), Word(start=231.84, end=232.28, word=' just', probability=0.9921875), Word(start=232.28, end=232.8, word=' and', probability=0.9873046875), Word(start=232.8, end=233.14, word=' the', probability=0.99267578125), Word(start=233.14, end=233.52, word=' unjust', probability=0.99755859375), Word(start=233.52, end=234.18, word=' alike,', probability=0.98828125)]}, {'start': '234', 'end': '238', 'speaker': 'SPEAKER 1', 'text': ' the quality of equanimity wishes well for every being', 'words': [Word(start=234.84, end=235.06, word=' the', probability=0.99658203125), Word(start=235.06, end=235.5, word=' quality', probability=0.998046875), Word(start=235.5, end=235.8, word=' of', probability=0.994140625), Word(start=235.8, end=236.68, word=' equanimity', probability=0.9988606770833334), Word(start=236.68, end=237.12, word=' wishes', probability=0.99560546875), Word(start=237.12, end=237.66, word=' well', probability=0.99853515625), Word(start=237.66, end=238.1, word=' for', probability=0.99951171875), Word(start=238.1, end=238.4, word=' every', probability=0.99853515625), Word(start=238.4, end=238.9, word=' being', probability=0.9990234375)]}, {'start': '238', 'end': '242', 'speaker': 'SPEAKER 1', 'text': ' without trying to change and control and manipulate.', 'words': [Word(start=238.9, end=239.54, word=' without', probability=0.402099609375), Word(start=239.54, end=239.92, word=' trying', probability=0.990234375), Word(start=239.92, end=240.36, word=' to', probability=0.99755859375), Word(start=240.36, end=240.72, word=' change', probability=0.994140625), Word(start=240.72, end=241.04, word=' and', probability=0.853515625), Word(start=241.04, end=241.6, word=' control', probability=0.99755859375), Word(start=241.6, end=241.92, word=' and', probability=0.9873046875), Word(start=241.92, end=242.76, word=' manipulate.', probability=0.99853515625)]}, {'start': '244', 'end': '247', 'speaker': 'SPEAKER 1', 'text': ' All beings are recipients of their own karma.', 'words': [Word(start=244.2, end=244.56, word=' All', probability=0.9287109375), Word(start=244.56, end=245.08, word=' beings', probability=0.994140625), Word(start=245.08, end=245.58, word=' are', probability=0.99609375), Word(start=245.58, end=246.26, word=' recipients', probability=0.98876953125), Word(start=246.26, end=246.6, word=' of', probability=0.99853515625), Word(start=246.6, end=246.92, word=' their', probability=0.99853515625), Word(start=246.92, end=247.26, word=' own', probability=0.99951171875), Word(start=247.26, end=247.82, word=' karma.', probability=0.91650390625)]}, {'start': '248', 'end': '255', 'speaker': 'SPEAKER 1', 'text': ' Their happiness and suffering depend on their actions and not my wishes for them.', 'words': [Word(start=248.82, end=249.16, word=' Their', probability=0.97021484375), Word(start=249.16, end=249.76, word=' happiness', probability=0.99951171875), Word(start=249.76, end=250.26, word=' and', probability=0.998046875), Word(start=250.26, end=250.8, word=' suffering', probability=0.99853515625), Word(start=250.8, end=251.68, word=' depend', probability=0.97216796875), Word(start=251.68, end=252.06, word=' on', probability=0.99853515625), Word(start=252.06, end=252.48, word=' their', probability=0.9990234375), Word(start=252.48, end=253.18, word=' actions', probability=0.99853515625), Word(start=253.18, end=253.9, word=' and', probability=0.830078125), Word(start=253.9, end=254.26, word=' not', probability=0.9990234375), Word(start=254.26, end=254.56, word=' my', probability=0.99267578125), Word(start=254.56, end=254.98, word=' wishes', probability=0.9970703125), Word(start=254.98, end=255.38, word=' for', probability=0.99853515625), Word(start=255.38, end=255.78, word=' them.', probability=0.99951171875)]}, {'start': '256', 'end': '258', 'speaker': 'SPEAKER 2', 'text': ' This is the teaching of equanimity.', 'words': [Word(start=256.6, end=256.92, word=' This', probability=0.99365234375), Word(start=256.92, end=257.24, word=' is', probability=0.998046875), Word(start=257.24, end=257.38, word=' the', probability=0.99560546875), Word(start=257.38, end=257.76, word=' teaching', probability=0.9951171875), Word(start=257.76, end=258.08, word=' of', probability=0.994140625), Word(start=258.08, end=258.92, word=' equanimity.', probability=0.9962565104166666)]}, {'start': '259', 'end': '267', 'speaker': 'SPEAKER 1', 'text': \" We can love them and care for them, but we can't let go for them or awaken for them.\", 'words': [Word(start=259.16, end=259.62, word=' We', probability=0.99658203125), Word(start=259.62, end=259.9, word=' can', probability=0.99951171875), Word(start=259.9, end=260.22, word=' love', probability=0.99951171875), Word(start=260.22, end=260.68, word=' them', probability=0.998046875), Word(start=260.68, end=261.28, word=' and', probability=0.9345703125), Word(start=261.28, end=261.62, word=' care', probability=0.9990234375), Word(start=261.62, end=261.84, word=' for', probability=0.9990234375), Word(start=261.84, end=262.34, word=' them,', probability=1.0), Word(start=262.84, end=263.32, word=' but', probability=0.998046875), Word(start=263.32, end=263.56, word=' we', probability=0.9990234375), Word(start=263.56, end=263.86, word=\" can't\", probability=0.99853515625), Word(start=263.86, end=264.14, word=' let', probability=0.99951171875), Word(start=264.14, end=264.4, word=' go', probability=0.9990234375), Word(start=264.4, end=264.7, word=' for', probability=0.93798828125), Word(start=264.7, end=265.1, word=' them', probability=0.99951171875), Word(start=265.1, end=265.9, word=' or', probability=0.91259765625), Word(start=265.9, end=266.44, word=' awaken', probability=0.986328125), Word(start=266.44, end=266.78, word=' for', probability=0.99755859375), Word(start=266.78, end=267.18, word=' them.', probability=0.99951171875)]}, {'start': '267', 'end': '272', 'speaker': 'SPEAKER 1', 'text': \" We can't love for them. We can just offer them our love.\", 'words': [Word(start=267.72, end=268.36, word=' We', probability=0.73291015625), Word(start=268.36, end=268.82, word=\" can't\", probability=0.99267578125), Word(start=268.82, end=269.12, word=' love', probability=0.99755859375), Word(start=269.12, end=269.44, word=' for', probability=0.99609375), Word(start=269.44, end=269.68, word=' them.', probability=0.998046875), Word(start=269.76, end=269.92, word=' We', probability=0.99658203125), Word(start=269.92, end=270.2, word=' can', probability=0.99609375), Word(start=270.2, end=270.56, word=' just', probability=0.9921875), Word(start=270.56, end=270.88, word=' offer', probability=0.9990234375), Word(start=270.88, end=271.2, word=' them', probability=0.99658203125), Word(start=271.2, end=271.52, word=' our', probability=0.99462890625), Word(start=271.52, end=272.04, word=' love.', probability=0.9931640625)]}, {'start': '273', 'end': '278', 'speaker': 'SPEAKER 1', 'text': ' And in equanimity we rest in the peaceful heart.', 'words': [Word(start=273.52, end=273.68, word=' And', probability=0.900390625), Word(start=273.68, end=273.98, word=' in', probability=0.943359375), Word(start=273.98, end=274.88, word=' equanimity', probability=0.9983723958333334), Word(start=274.88, end=275.92, word=' we', probability=0.345947265625), Word(start=275.92, end=276.54, word=' rest', probability=0.9970703125), Word(start=276.54, end=277.26, word=' in', probability=0.9931640625), Word(start=277.26, end=277.38, word=' the', probability=0.677734375), Word(start=277.38, end=277.82, word=' peaceful', probability=0.97216796875), Word(start=277.82, end=278.48, word=' heart.', probability=0.9921875)]}])"
            ]
          },
          "metadata": {},
          "execution_count": 39
        }
      ]
    }
  ]
}